{
 "cells": [
  {
   "cell_type": "markdown",
   "metadata": {},
   "source": [
    "# QTM 385\n",
    "\n",
    "***\n",
    "\n",
    "## Homework 4\n",
    "\n",
    "Student: Mengxuan Yan [ID2346259]"
   ]
  },
  {
   "cell_type": "markdown",
   "metadata": {},
   "source": [
    "In this homework, we will create an object called Student, that is useful for a professor to store information about a student."
   ]
  },
  {
   "cell_type": "markdown",
   "metadata": {},
   "source": [
    "\n",
    "***\n",
    "\n",
    "### Question 1\n",
    "\n",
    "Create a class Student, that has:\n",
    "\n",
    "0. Id number (5-digits integer, starting with 1)\n",
    "1. First Name (str)\n",
    "2. Last Name (str)\n",
    "3. Grades (list of floats)\n",
    "4. Credits (list of integers)\n",
    "5. Major (str)\n",
    "\n",
    "Provide a constructor for your class and create one fictitious student."
   ]
  },
  {
   "cell_type": "code",
   "execution_count": 1,
   "metadata": {},
   "outputs": [],
   "source": [
    "# Your answer here\n",
    "class Student:\n",
    "    def __init__(self, ID, first, last, gr, cre, maj):\n",
    "        self.Id = ID\n",
    "        self.first_name = first\n",
    "        self.last_name = last\n",
    "        self.grades = gr\n",
    "        self.credits = cre\n",
    "        self.major = maj"
   ]
  },
  {
   "cell_type": "code",
   "execution_count": 2,
   "metadata": {},
   "outputs": [
    {
     "name": "stdout",
     "output_type": "stream",
     "text": [
      "12345\n",
      "John\n",
      "Taylor\n",
      "[7.8, 7.7, 8.1]\n",
      "[3, 3, 4]\n",
      "QSS\n"
     ]
    }
   ],
   "source": [
    "stu1 = Student(12345, 'John', 'Taylor', [7.8, 7.7, 8.1], [3, 3, 4], 'QSS')\n",
    "print(stu1.Id)\n",
    "print(stu1.first_name)\n",
    "print(stu1.last_name)\n",
    "print(stu1.grades)\n",
    "print(stu1.credits)\n",
    "print(stu1.major)"
   ]
  },
  {
   "cell_type": "markdown",
   "metadata": {},
   "source": [
    "\n",
    "***\n",
    "\n",
    "### Question 2\n",
    "\n",
    "Create a method to nicely display the student when we type `print`. It should display, for example:\n",
    "\n",
    "```\n",
    "Student:\n",
    "    Id: 12345\n",
    "    Name: Mig, Umberto\n",
    "    Major: QSS\n",
    "```\n",
    "\n",
    "Create a method that, when a variable storing a student is typed in the console, displays:\n",
    "\n",
    "```\n",
    "Student(Mig, Umberto; 12345)\n",
    "```\n",
    "\n",
    "Provide some testing with a fictitious result of your choice."
   ]
  },
  {
   "cell_type": "code",
   "execution_count": 3,
   "metadata": {},
   "outputs": [],
   "source": [
    "# Your answer here\n",
    "class Student:\n",
    "    def __init__(self, ID, first, last, gr, cre, maj):\n",
    "        self.Id = ID\n",
    "        self.first_name = first\n",
    "        self.last_name = last\n",
    "        self.grades = gr\n",
    "        self.credits = cre\n",
    "        self.major = maj\n",
    "        \n",
    "    def __str__(self):\n",
    "        info = \"\"\"\n",
    "        Student:\n",
    "            Id: {Id}\n",
    "            Name: {last_name}, {first_name}\n",
    "            Major: {major}\n",
    "        \"\"\".format(Id = self.Id, last_name = self.last_name, first_name = self.first_name, major = self.major)\n",
    "        return info\n",
    "    \n",
    "    def __repr__(self):\n",
    "        return 'Student({last_name}, {first_name}; {Id})'.format(last_name = self.last_name, first_name = self.first_name, Id = self.Id)"
   ]
  },
  {
   "cell_type": "code",
   "execution_count": 4,
   "metadata": {},
   "outputs": [
    {
     "name": "stdout",
     "output_type": "stream",
     "text": [
      "\n",
      "        Student:\n",
      "            Id: 12345\n",
      "            Name: Taylor, John\n",
      "            Major: QSS\n",
      "        \n"
     ]
    }
   ],
   "source": [
    "stu1 = Student(12345, 'John', 'Taylor', [7.8, 7.7, 8.1], [3, 3, 4], 'QSS')\n",
    "print(stu1)"
   ]
  },
  {
   "cell_type": "code",
   "execution_count": 5,
   "metadata": {},
   "outputs": [
    {
     "data": {
      "text/plain": [
       "Student(Taylor, John; 12345)"
      ]
     },
     "execution_count": 5,
     "metadata": {},
     "output_type": "execute_result"
    }
   ],
   "source": [
    "stu1"
   ]
  },
  {
   "cell_type": "markdown",
   "metadata": {},
   "source": [
    "\n",
    "***\n",
    "\n",
    "### Question 3\n",
    "\n",
    "Implement class methods for:\n",
    "\n",
    "1. Check if the id number is valid (remember: 5 digits, starting with number one)\n",
    "2. Check if the grades list has the same length as the credits list. The idea is that every grade corresponds to a course that gave the student a certain amount of credits.\n",
    "3. Append grade and credit: given a grade, and credits attached to the grade, append both to each respective place.\n",
    "\n",
    "Test your function with a toy student of your choice."
   ]
  },
  {
   "cell_type": "code",
   "execution_count": 6,
   "metadata": {},
   "outputs": [],
   "source": [
    "# Your answer here\n",
    "class Student:\n",
    "    def __init__(self, ID, first, last, gr, cre, maj):\n",
    "        self.Id = ID\n",
    "        self.first_name = first\n",
    "        self.last_name = last\n",
    "        self.grades = gr\n",
    "        self.credits = cre\n",
    "        self.major = maj\n",
    "        \n",
    "    def __str__(self):\n",
    "        info = \"\"\"\n",
    "        Student:\n",
    "            Id: {Id}\n",
    "            Name: {last_name}, {first_name}\n",
    "            Major: {major}\n",
    "        \"\"\".format(Id = self.Id, last_name = self.last_name, first_name = self.first_name, major = self.major)\n",
    "        return info\n",
    "    \n",
    "    def __repr__(self):\n",
    "        return 'Student({last_name}, {first_name}; {Id})'.format(last_name = self.last_name, first_name = self.first_name, Id = self.Id)\n",
    "    \n",
    "    def Id_valid(self):\n",
    "        if self.Id >= 10000 and self.Id <= 19999:\n",
    "            print(\"This student's Id number is valid.\")\n",
    "        else:\n",
    "            print(\"Invalid Id number\")\n",
    "    \n",
    "    def grade_credit_match(self):\n",
    "        if len(self.grades) == len(self.credits):\n",
    "            print('The grades list has the same length as the credits list. ')\n",
    "        else:\n",
    "            print('The grades list does not have the same length as the credits list. ')\n",
    "            \n",
    "    def append_grade_credit(self, grade, credit):\n",
    "        self.grades.append(grade)\n",
    "        self.credits.append(credit)"
   ]
  },
  {
   "cell_type": "code",
   "execution_count": 7,
   "metadata": {},
   "outputs": [
    {
     "name": "stdout",
     "output_type": "stream",
     "text": [
      "This is a student with correct information: \n",
      "This student's Id number is valid.\n",
      "The grades list has the same length as the credits list. \n"
     ]
    }
   ],
   "source": [
    "stu1 = Student(12345, 'John', 'Taylor', [7.8, 7.7, 8.1], [3, 3, 4], 'QSS')\n",
    "print('This is a student with correct information: ')\n",
    "stu1.Id_valid()\n",
    "stu1.grade_credit_match()"
   ]
  },
  {
   "cell_type": "code",
   "execution_count": 8,
   "metadata": {},
   "outputs": [
    {
     "name": "stdout",
     "output_type": "stream",
     "text": [
      "This is a student with incorrect information: \n",
      "Invalid Id number\n",
      "The grades list does not have the same length as the credits list. \n"
     ]
    }
   ],
   "source": [
    "stu2 = Student(1234, 'John', 'Taylor', [7.8, 7.7], [3, 3, 4], 'QSS')\n",
    "print('This is a student with incorrect information: ')\n",
    "stu2.Id_valid()\n",
    "stu2.grade_credit_match()"
   ]
  },
  {
   "cell_type": "code",
   "execution_count": 9,
   "metadata": {},
   "outputs": [
    {
     "name": "stdout",
     "output_type": "stream",
     "text": [
      "[7.8, 7.7, 8.1, 9]\n",
      "[3, 3, 4, 3]\n"
     ]
    }
   ],
   "source": [
    "stu1 = Student(12345, 'John', 'Taylor', [7.8, 7.7, 8.1], [3, 3, 4], 'QSS')\n",
    "stu1.append_grade_credit(9, 3)\n",
    "print(stu1.grades)\n",
    "print(stu1.credits)"
   ]
  },
  {
   "cell_type": "markdown",
   "metadata": {},
   "source": [
    "\n",
    "***\n",
    "\n",
    "### Question 4\n",
    "\n",
    "Create a module in the class Student that computes the unweighted average of the student's grades."
   ]
  },
  {
   "cell_type": "code",
   "execution_count": 10,
   "metadata": {},
   "outputs": [],
   "source": [
    "# Your answer here\n",
    "class Student:\n",
    "    def __init__(self, ID, first, last, gr, cre, maj):\n",
    "        self.Id = ID\n",
    "        self.first_name = first\n",
    "        self.last_name = last\n",
    "        self.grades = gr\n",
    "        self.credits = cre\n",
    "        self.major = maj\n",
    "        \n",
    "    def __str__(self):\n",
    "        info = \"\"\"\n",
    "        Student:\n",
    "            Id: {Id}\n",
    "            Name: {last_name}, {first_name}\n",
    "            Major: {major}\n",
    "        \"\"\".format(Id = self.Id, last_name = self.last_name, first_name = self.first_name, major = self.major)\n",
    "        return info\n",
    "    \n",
    "    def __repr__(self):\n",
    "        return 'Student({last_name}, {first_name}; {Id})'.format(last_name = self.last_name, first_name = self.first_name, Id = self.Id)\n",
    "    \n",
    "    def Id_valid(self):\n",
    "        if self.Id >= 10000 and self.Id <= 19999:\n",
    "            print(\"This student's Id number is valid.\")\n",
    "        else:\n",
    "            print(\"Invalid Id number\")\n",
    "    \n",
    "    def grade_credit_match(self):\n",
    "        if len(self.grades) == len(self.credits):\n",
    "            print('The grades list has the same length as the credits list. ')\n",
    "        else:\n",
    "            print('The grades list does not have the same length as the credits list. ')\n",
    "            \n",
    "    def append_grade_credit(self, grade, credit):\n",
    "        self.grades.append(grade)\n",
    "        self.credits.append(credit)\n",
    "        \n",
    "    def average_grade(self):\n",
    "        avg = 0\n",
    "        for x in self.grades:\n",
    "            avg += x\n",
    "        avg = avg / len(self.grades)\n",
    "        return avg\n"
   ]
  },
  {
   "cell_type": "code",
   "execution_count": 11,
   "metadata": {},
   "outputs": [
    {
     "name": "stdout",
     "output_type": "stream",
     "text": [
      "Average grade computed by the method:\n",
      "7.866666666666667\n",
      "Average grade computed by hand:\n",
      "7.866666666666667\n"
     ]
    }
   ],
   "source": [
    "stu1 = Student(12345, 'John', 'Taylor', [7.8, 7.7, 8.1], [3, 3, 4], 'QSS')\n",
    "print('Average grade computed by the method:')\n",
    "print(stu1.average_grade())\n",
    "print('Average grade computed by hand:')\n",
    "print((7.8+7.7+8.1)/3)"
   ]
  },
  {
   "cell_type": "markdown",
   "metadata": {},
   "source": [
    "\n",
    "***\n",
    "\n",
    "### Question 5\n",
    "\n",
    "Create a module in the class Student that computes the weighted average of the student's grades, weighted by the credits."
   ]
  },
  {
   "cell_type": "code",
   "execution_count": 12,
   "metadata": {},
   "outputs": [],
   "source": [
    "# Your answer here\n",
    "class Student:\n",
    "    def __init__(self, ID, first, last, gr, cre, maj):\n",
    "        self.Id = ID\n",
    "        self.first_name = first\n",
    "        self.last_name = last\n",
    "        self.grades = gr\n",
    "        self.credits = cre\n",
    "        self.major = maj\n",
    "        \n",
    "    def __str__(self):\n",
    "        info = \"\"\"\n",
    "        Student:\n",
    "            Id: {Id}\n",
    "            Name: {last_name}, {first_name}\n",
    "            Major: {major}\n",
    "        \"\"\".format(Id = self.Id, last_name = self.last_name, first_name = self.first_name, major = self.major)\n",
    "        return info\n",
    "    \n",
    "    def __repr__(self):\n",
    "        return 'Student({last_name}, {first_name}; {Id})'.format(last_name = self.last_name, first_name = self.first_name, Id = self.Id)\n",
    "    \n",
    "    def Id_valid(self):\n",
    "        if self.Id >= 10000 and self.Id <= 19999:\n",
    "            print(\"This student's Id number is valid.\")\n",
    "        else:\n",
    "            print(\"Invalid Id number\")\n",
    "    \n",
    "    def grade_credit_match(self):\n",
    "        if len(self.grades) == len(self.credits):\n",
    "            print('The grades list has the same length as the credits list. ')\n",
    "        else:\n",
    "            print('The grades list does not have the same length as the credits list. ')\n",
    "            \n",
    "    def append_grade_credit(self, grade, credit):\n",
    "        self.grades.append(grade)\n",
    "        self.credits.append(credit)\n",
    "        \n",
    "    def average_grade(self):\n",
    "        avg = 0\n",
    "        for x in self.grades:\n",
    "            avg += x\n",
    "        avg = avg / len(self.grades)\n",
    "        return avg\n",
    "    \n",
    "    def weighted_average_grade(self):\n",
    "        total_credits = 0\n",
    "        for c in self.credits:\n",
    "            total_credits += c\n",
    "        avg = 0\n",
    "        for i in range(len(self.grades)):\n",
    "            avg += self.grades[i] * self.credits[i] / total_credits\n",
    "        return avg\n"
   ]
  },
  {
   "cell_type": "code",
   "execution_count": 13,
   "metadata": {},
   "outputs": [
    {
     "name": "stdout",
     "output_type": "stream",
     "text": [
      "Weighted average grade computed by the method:\n",
      "7.890000000000001\n",
      "Weighted average grade computed by hand:\n",
      "7.890000000000001\n"
     ]
    }
   ],
   "source": [
    "stu1 = Student(12345, 'John', 'Taylor', [7.8, 7.7, 8.1], [3, 3, 4], 'QSS')\n",
    "print('Weighted average grade computed by the method:')\n",
    "print(stu1.weighted_average_grade())\n",
    "print('Weighted average grade computed by hand:')\n",
    "print(7.8*3/10 + 7.7*3/10 + 8.1*4/10)"
   ]
  },
  {
   "cell_type": "markdown",
   "metadata": {},
   "source": [
    "**That's all, folks!**"
   ]
  }
 ],
 "metadata": {
  "kernelspec": {
   "display_name": "Python 3",
   "language": "python",
   "name": "python3"
  },
  "language_info": {
   "codemirror_mode": {
    "name": "ipython",
    "version": 3
   },
   "file_extension": ".py",
   "mimetype": "text/x-python",
   "name": "python",
   "nbconvert_exporter": "python",
   "pygments_lexer": "ipython3",
   "version": "3.8.3"
  }
 },
 "nbformat": 4,
 "nbformat_minor": 4
}
